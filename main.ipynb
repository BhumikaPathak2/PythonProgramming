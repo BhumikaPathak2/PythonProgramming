{
 "cells": [
  {
   "cell_type": "code",
   "execution_count": 2,
   "id": "da996b21",
   "metadata": {},
   "outputs": [
    {
     "name": "stdout",
     "output_type": "stream",
     "text": [
      "Enter your name: Bhumika\n",
      "Enter your college name: Durham\n",
      "Enter your student ID: 100906674\n",
      "Enter your area of study: AI\n",
      "\n",
      "--- Student Information ---\n",
      "Name: Bhumika\n",
      "College Name: Durham\n",
      "Student ID: 100906674\n",
      "Area of Study: AI\n"
     ]
    }
   ],
   "source": [
    "# Asking for user inputs\n",
    "name = input(\"Enter your name: \")\n",
    "college_name = input(\"Enter your college name: \")\n",
    "student_id = input(\"Enter your student ID: \")\n",
    "area_of_study = input(\"Enter your area of study: \")\n",
    "\n",
    "# Printing the collected information\n",
    "print(\"\\n--- Student Information ---\")\n",
    "print(f\"Name: {name}\")\n",
    "print(f\"College Name: {college_name}\")\n",
    "print(f\"Student ID: {student_id}\")\n",
    "print(f\"Area of Study: {area_of_study}\")\n"
   ]
  },
  {
   "cell_type": "code",
   "execution_count": null,
   "id": "9b3cfc4d",
   "metadata": {},
   "outputs": [],
   "source": []
  }
 ],
 "metadata": {
  "kernelspec": {
   "display_name": "Python 3 (ipykernel)",
   "language": "python",
   "name": "python3"
  },
  "language_info": {
   "codemirror_mode": {
    "name": "ipython",
    "version": 3
   },
   "file_extension": ".py",
   "mimetype": "text/x-python",
   "name": "python",
   "nbconvert_exporter": "python",
   "pygments_lexer": "ipython3",
   "version": "3.10.9"
  }
 },
 "nbformat": 4,
 "nbformat_minor": 5
}
